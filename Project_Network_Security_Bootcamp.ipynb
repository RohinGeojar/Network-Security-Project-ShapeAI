{
  "nbformat": 4,
  "nbformat_minor": 0,
  "metadata": {
    "colab": {
      "name": "Project Network Security Bootcamp.ipynb",
      "provenance": [],
      "collapsed_sections": []
    },
    "kernelspec": {
      "name": "python3",
      "display_name": "Python 3"
    },
    "language_info": {
      "name": "python"
    }
  },
  "cells": [
    {
      "cell_type": "code",
      "metadata": {
        "colab": {
          "base_uri": "https://localhost:8080/"
        },
        "id": "_VbthhOoLAj2",
        "outputId": "53138f63-87cc-4507-fa0e-f2181ffd44ac"
      },
      "source": [
        "#Program to Generate Hashing of a string data using MD5 Algorithm \n",
        "\n",
        "import hashlib\n",
        "data = input(\"Enter The String to be Hashed using MD5 Algorithm :\")\n",
        "hash_d = hashlib.md5(data.encode())\n",
        "\n",
        "print(\"-------------------------------------\")\n",
        "print(\"The String Hashed using MD5 Algorithm in Hexa-Decimal Format :\" ,hash_d.hexdigest())\n",
        "print(\"The String Hashed using MD5 Algorithm in Byte Format :\" ,hash_d.digest())\n",
        "print(\"-------------------------------------\")"
      ],
      "execution_count": 3,
      "outputs": [
        {
          "output_type": "stream",
          "text": [
            "Enter The String to be Hashed using MD5 Algorithm :rohin\n",
            "-------------------------------------\n",
            "The String Hashed using MD5 Algorithm in Hexa-Decimal Format : 12aa7b7752ec153876d0df3f61c3ea0e\n",
            "The String Hashed using MD5 Algorithm in Byte Format : b'\\x12\\xaa{wR\\xec\\x158v\\xd0\\xdf?a\\xc3\\xea\\x0e'\n",
            "-------------------------------------\n"
          ],
          "name": "stdout"
        }
      ]
    },
    {
      "cell_type": "code",
      "metadata": {
        "colab": {
          "base_uri": "https://localhost:8080/"
        },
        "id": "oGZX5FlMMt8a",
        "outputId": "cc7721d6-1f66-4625-dfa6-c90ca0f4d45d"
      },
      "source": [
        "#Program to Generate Hashing of a string data using 3 Different Algorithms\n",
        "import hashlib\n",
        "\n",
        "data = input(\"Enter The Data to be Hashed :\")\n",
        "\n",
        "hash_d1 = hashlib.sha1(data.encode())\n",
        "hash_d2 = hashlib.sha512(data.encode())\n",
        "hash_d3 = hashlib.blake2s(data.encode())\n",
        "\n",
        "print(\"-------------------------------------\")\n",
        "print(\"The String Hashed using SHA-1 Algorithm in Hexa-Decimal Format :\" ,hash_d1.hexdigest())\n",
        "print(\"The String Hashed using SHA-1 Algorithm in Byte Format :\" ,hash_d1.digest())\n",
        "print(\"-------------------------------------\")\n",
        "print(\"The String Hashed using SHA-512 Algorithm in Hexa-Decimal Format :\" ,hash_d2.hexdigest())\n",
        "print(\"The String Hashed using SHA-512 Algorithm in Byte Format :\" ,hash_d2.digest())\n",
        "print(\"-------------------------------------\")\n",
        "print(\"The String Hashed using BLAKE2s Algorithm in Hexa-Decimal Format :\" ,hash_d3.hexdigest())\n",
        "print(\"The String Hashed using BLAKE2s Algorithm in Byte Format :\" ,hash_d3.digest())\n",
        "print(\"-------------------------------------\")"
      ],
      "execution_count": 13,
      "outputs": [
        {
          "output_type": "stream",
          "text": [
            "Enter The Data to be Hashed :rohin\n",
            "-------------------------------------\n",
            "The String Hashed using SHA-1 Algorithm in Hexa-Decimal Format : da32e8d26cf1d681a62b44768ea31524a1946bd9\n",
            "The String Hashed using SHA-1 Algorithm in Byte Format : b'\\xda2\\xe8\\xd2l\\xf1\\xd6\\x81\\xa6+Dv\\x8e\\xa3\\x15$\\xa1\\x94k\\xd9'\n",
            "-------------------------------------\n",
            "The String Hashed using SHA-512 Algorithm in Hexa-Decimal Format : eb794d7f1b7e2b8b59e4d5c15983b4c71f5107f3e1eefedcd2446020bfd86c5ee396d89640504b6f823316307c1f4bf2f0f466255242d49570c9bdd48d25e7cb\n",
            "The String Hashed using SHA-512 Algorithm in Byte Format : b'\\xebyM\\x7f\\x1b~+\\x8bY\\xe4\\xd5\\xc1Y\\x83\\xb4\\xc7\\x1fQ\\x07\\xf3\\xe1\\xee\\xfe\\xdc\\xd2D` \\xbf\\xd8l^\\xe3\\x96\\xd8\\x96@PKo\\x823\\x160|\\x1fK\\xf2\\xf0\\xf4f%RB\\xd4\\x95p\\xc9\\xbd\\xd4\\x8d%\\xe7\\xcb'\n",
            "-------------------------------------\n",
            "The String Hashed using BLAKE2s Algorithm in Hexa-Decimal Format : fe87d4f091ab24ab2e4891292bd51636bbbb75f38e7a1757fd0a107c893e145a\n",
            "The String Hashed using BLAKE2s Algorithm in Byte Format : b'\\xfe\\x87\\xd4\\xf0\\x91\\xab$\\xab.H\\x91)+\\xd5\\x166\\xbb\\xbbu\\xf3\\x8ez\\x17W\\xfd\\n\\x10|\\x89>\\x14Z'\n",
            "-------------------------------------\n"
          ],
          "name": "stdout"
        }
      ]
    },
    {
      "cell_type": "code",
      "metadata": {
        "colab": {
          "base_uri": "https://localhost:8080/"
        },
        "id": "Ge5Y8qZfQBmJ",
        "outputId": "645aa7bb-fe2e-409d-f5d6-4ee8af3203e3"
      },
      "source": [
        "#Program to Add Salting and Iteration to Hashes \n",
        "import hashlib\n",
        "\n",
        "data = input(\"Enter The String to be Hashed using MD5 Algorithm :\")\n",
        "hash_d = hashlib.md5(data.encode())\n",
        "salt = input(\"Enter the Sring to be added as salt :\")\n",
        "h_salt = hashlib.md5(salt.encode())\n",
        "\n",
        "print(\"-------------------------------------\")\n",
        "print(\"The String Hashed using MD5 Algorithm in Hexa-Decimal Format :\" ,hash_d.hexdigest())\n",
        "print(\"The String Hashed using MD5 Algorithm in Byte Format :\" ,hash_d.digest())\n",
        "print(\"-------------------------------------\")\n",
        "print(\"The Salted String using MD5 Algorithm in Hexa-Decimal Format is :\" ,h_salt.hexdigest()+hash_d.hexdigest())\n",
        "print(\"The Salted String using MD5 Algorithm in Byte Format is :\" ,h_salt.digest()+hash_d.digest())\n",
        "print(\"-------------------------------------\")\n",
        "\n",
        "n = int(input(\"Enter the No of times The String should be Iterated :\"))\n",
        "\n",
        "for i in range(1,n+1):\n",
        "  i_hash = hashlib.md5(hash_d.hexdigest().encode())\n",
        "  hash_d = hashlib.md5(i_hash.hexdigest().encode())\n",
        "print(\"-------------------------------------\")\n",
        "print(\"String Iterated \" , n , \" Times in Hexadecimal Format is : \" ,i_hash.hexdigest())\n",
        "print(\"String Iterated \" , n , \" Times in Byte Format is : \" ,i_hash.digest())\n",
        "print(\"-------------------------------------\")"
      ],
      "execution_count": 16,
      "outputs": [
        {
          "output_type": "stream",
          "text": [
            "Enter The String to be Hashed using MD5 Algorithm :rohin\n",
            "Enter the Sring to be added as salt :geo\n",
            "-------------------------------------\n",
            "The String Hashed using MD5 Algorithm in Hexa-Decimal Format : 12aa7b7752ec153876d0df3f61c3ea0e\n",
            "The String Hashed using MD5 Algorithm in Byte Format : b'\\x12\\xaa{wR\\xec\\x158v\\xd0\\xdf?a\\xc3\\xea\\x0e'\n",
            "-------------------------------------\n",
            "The Salted String using MD5 Algorithm in Hexa-Decimal Format is : ecc174e3e02c82f34c14fe860bf47ef212aa7b7752ec153876d0df3f61c3ea0e\n",
            "The Salted String using MD5 Algorithm in Byte Format is : b'\\xec\\xc1t\\xe3\\xe0,\\x82\\xf3L\\x14\\xfe\\x86\\x0b\\xf4~\\xf2\\x12\\xaa{wR\\xec\\x158v\\xd0\\xdf?a\\xc3\\xea\\x0e'\n",
            "-------------------------------------\n",
            "Enter the No of times The String should be Iterated :3\n",
            "-------------------------------------\n",
            "String Iterated  3  Times in Hexadecimal Format is :  a68c13c78a43454ea1fadea45473feb0\n",
            "String Iterated  3  Times in Byte Format is :  b'\\xa6\\x8c\\x13\\xc7\\x8aCEN\\xa1\\xfa\\xde\\xa4Ts\\xfe\\xb0'\n",
            "-------------------------------------\n"
          ],
          "name": "stdout"
        }
      ]
    }
  ]
}